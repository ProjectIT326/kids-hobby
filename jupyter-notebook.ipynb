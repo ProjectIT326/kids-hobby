{
 "cells": [
  {
   "cell_type": "markdown",
   "metadata": {},
   "source": [
    "Kids Hobby Prediction Dataset"
   ]
  },
  {
   "cell_type": "markdown",
   "metadata": {},
   "source": [
    "The goal of collecting the dataset:\n",
    "To predict children's hobbies.\n",
    "\n",
    "The source of the dataset:\n",
    "\n",
    "https://www.kaggle.com/datasets/abtabm/hobby-prediction-basic?select=Hobby_Data.csv\n",
    "\n",
    "General information about the dataset:\n",
    "\n",
    "The number attributes: 14 columns.\n",
    "\n",
    "  The type of attributes:\n",
    "\n",
    "  Categorical, Boolean, and Numerical data.\n",
    "\n",
    "  The number of objects: 1602 row.\n",
    "  \n",
    "  The class’s names: Academics, arts, sports."
   ]
  }
 ],
 "metadata": {
  "language_info": {
   "name": "python"
  },
  "orig_nbformat": 4
 },
 "nbformat": 4,
 "nbformat_minor": 2
}
